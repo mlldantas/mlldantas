{
 "cells": [
  {
   "cell_type": "markdown",
   "id": "bfdff081-06b2-471d-933d-d952c269e2ff",
   "metadata": {},
   "source": [
    "This jupyter notebook is saving some color palette inspirations."
   ]
  },
  {
   "cell_type": "markdown",
   "id": "55c7478c-6c7f-4c5a-8c83-50397bb78380",
   "metadata": {},
   "source": [
    "# Libraries"
   ]
  },
  {
   "cell_type": "code",
   "execution_count": 1,
   "id": "88801f4c-4741-43b9-9bc3-a60444dab839",
   "metadata": {},
   "outputs": [],
   "source": [
    "import pandas            as pd\n",
    "import matplotlib.pyplot as plt\n",
    "import seaborn           as sns\n",
    "from matplotlib.colors   import to_hex"
   ]
  },
  {
   "cell_type": "markdown",
   "id": "18d2c19b-0458-469f-b6e2-23c11910a13f",
   "metadata": {},
   "source": [
    "# Colors"
   ]
  },
  {
   "cell_type": "code",
   "execution_count": 2,
   "id": "39ba0c7d-da15-4573-8ca9-e5485e7595df",
   "metadata": {},
   "outputs": [],
   "source": [
    "ocean_like = ['#0A0B1F', '#121936', '#1F345C', '#28666F', '#2E8A7D', '#38A88E', '#40BFB0', '#75D1CD', '#B3E0E6']"
   ]
  },
  {
   "cell_type": "code",
   "execution_count": 3,
   "id": "75812e8a-c9d2-4793-a685-dfc8c3a13b0d",
   "metadata": {},
   "outputs": [
    {
     "data": {
      "image/png": "[encoded data removed]",
      "text/plain": [
       "<Figure size 900x100 with 1 Axes>"
      ]
     },
     "metadata": {},
     "output_type": "display_data"
    }
   ],
   "source": [
    "sns.palplot(ocean_like)"
   ]
  },
  {
   "cell_type": "code",
   "execution_count": 4,
   "id": "cc724124-9b4d-45ca-9587-68b02643a63e",
   "metadata": {},
   "outputs": [],
   "source": [
    "my_ocean = sns.blend_palette(ocean_like, n_colors=20)"
   ]
  },
  {
   "cell_type": "code",
   "execution_count": 5,
   "id": "b8988a9b-7332-4f66-b259-84deba82330d",
   "metadata": {},
   "outputs": [
    {
     "data": {
      "image/png": "[encoded data removed]",
      "text/plain": [
       "<Figure size 2000x100 with 1 Axes>"
      ]
     },
     "metadata": {},
     "output_type": "display_data"
    }
   ],
   "source": [
    "sns.palplot(my_ocean)"
   ]
  },
  {
   "cell_type": "code",
   "execution_count": 6,
   "id": "aad90c9c-efc9-4700-ade3-18ff2e9a99d6",
   "metadata": {},
   "outputs": [
    {
     "name": "stdout",
     "output_type": "stream",
     "text": [
      "['#0a0b1f', '#0d1128', '#111632', '#152040', '#1b2b4f', '#20395e', '#244d66', '#28636e', '#2a7374', '#2d837a', '#309080', '#349d88', '#38a990', '#3cb39f', '#3fbdad', '#52c5ba', '#67ccc6', '#80d4d2', '#9adadc', '#b3e0e6']\n"
     ]
    }
   ],
   "source": [
    "# Convert the RGB colours to HTML hex codes\n",
    "html_codes = [to_hex(color) for color in my_ocean]\n",
    "\n",
    "# Display the HTML codes\n",
    "print(html_codes)"
   ]
  },
  {
   "cell_type": "code",
   "execution_count": 7,
   "id": "c1f40cae-6921-40ca-b458-82f8cd57bcfb",
   "metadata": {},
   "outputs": [
    {
     "data": {
      "image/png": "[encoded data removed]",
      "text/plain": [
       "<Figure size 100x100 with 1 Axes>"
      ]
     },
     "metadata": {},
     "output_type": "display_data"
    }
   ],
   "source": [
    "sns.palplot(['#28666F'])"
   ]
  },
  {
   "cell_type": "code",
   "execution_count": 8,
   "id": "2cb7f4da-c590-40bc-98ca-694274d4b3b9",
   "metadata": {},
   "outputs": [
    {
     "data": {
      "image/png": "[encoded data removed]",
      "text/plain": [
       "<Figure size 100x100 with 1 Axes>"
      ]
     },
     "metadata": {},
     "output_type": "display_data"
    }
   ],
   "source": [
    "sns.palplot(['#244d66'])"
   ]
  },
  {
   "cell_type": "code",
   "execution_count": null,
   "id": "eb15af6b-816d-4905-a06c-e41f7ff5d349",
   "metadata": {},
   "outputs": [],
   "source": []
  }
 ],
 "metadata": {
  "kernelspec": {
   "display_name": "Python 3 (ipykernel)",
   "language": "python",
   "name": "python3"
  },
  "language_info": {
   "codemirror_mode": {
    "name": "ipython",
    "version": 3
   },
   "file_extension": ".py",
   "mimetype": "text/x-python",
   "name": "python",
   "nbconvert_exporter": "python",
   "pygments_lexer": "ipython3",
   "version": "3.11.7"
  }
 },
 "nbformat": 4,
 "nbformat_minor": 5
}
