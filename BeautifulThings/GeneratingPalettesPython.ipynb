{
 "cells": [
  {
   "cell_type": "markdown",
   "id": "0e9b2efd",
   "metadata": {},
   "source": [
    "# Libraries"
   ]
  },
  {
   "cell_type": "code",
   "execution_count": 1,
   "id": "17817217",
   "metadata": {},
   "outputs": [],
   "source": [
    "import numpy             as np\n",
    "import pandas            as pd\n",
    "import matplotlib.pyplot as plt\n",
    "import seaborn           as sns\n",
    "import matplotlib"
   ]
  },
  {
   "cell_type": "markdown",
   "id": "fe0c814b",
   "metadata": {},
   "source": [
    "# Creating a diverging palette"
   ]
  },
  {
   "cell_type": "code",
   "execution_count": 2,
   "id": "6a523ce7",
   "metadata": {},
   "outputs": [
    {
     "data": {
      "text/html": [
       "<svg  width=\"550\" height=\"55\"><rect x=\"0\" y=\"0\" width=\"55\" height=\"55\" style=\"fill:#3a8557;stroke-width:2;stroke:rgb(255,255,255)\"/><rect x=\"55\" y=\"0\" width=\"55\" height=\"55\" style=\"fill:#619d78;stroke-width:2;stroke:rgb(255,255,255)\"/><rect x=\"110\" y=\"0\" width=\"55\" height=\"55\" style=\"fill:#88b59a;stroke-width:2;stroke:rgb(255,255,255)\"/><rect x=\"165\" y=\"0\" width=\"55\" height=\"55\" style=\"fill:#b2cfbc;stroke-width:2;stroke:rgb(255,255,255)\"/><rect x=\"220\" y=\"0\" width=\"55\" height=\"55\" style=\"fill:#d9e7de;stroke-width:2;stroke:rgb(255,255,255)\"/><rect x=\"275\" y=\"0\" width=\"55\" height=\"55\" style=\"fill:#ebdeee;stroke-width:2;stroke:rgb(255,255,255)\"/><rect x=\"330\" y=\"0\" width=\"55\" height=\"55\" style=\"fill:#deb9e4;stroke-width:2;stroke:rgb(255,255,255)\"/><rect x=\"385\" y=\"0\" width=\"55\" height=\"55\" style=\"fill:#d091da;stroke-width:2;stroke:rgb(255,255,255)\"/><rect x=\"440\" y=\"0\" width=\"55\" height=\"55\" style=\"fill:#c36cd0;stroke-width:2;stroke:rgb(255,255,255)\"/><rect x=\"495\" y=\"0\" width=\"55\" height=\"55\" style=\"fill:#b646c7;stroke-width:2;stroke:rgb(255,255,255)\"/></svg>"
      ],
      "text/plain": [
       "[(0.22708394455496278, 0.5223412071210161, 0.34249065740417856),\n",
       " (0.3807575400408287, 0.6167013173538979, 0.47233422837283845),\n",
       " (0.5344311355266945, 0.7110614275867798, 0.6021777993414984),\n",
       " (0.696326525637118, 0.8104699616860553, 0.7389682187290313),\n",
       " (0.850000121122984, 0.9048300719189373, 0.8688117896976911),\n",
       " (0.9231084553415293, 0.8706464567451475, 0.9316371471280377),\n",
       " (0.8710721450572598, 0.7238782029735615, 0.8939021227386493),\n",
       " (0.8162518050584232, 0.5692576019194139, 0.8541482113719547),\n",
       " (0.7642154947741538, 0.42248934814782807, 0.8164131869825663),\n",
       " (0.7121791844898844, 0.2757210943762422, 0.7786781625931779)]"
      ]
     },
     "execution_count": 2,
     "metadata": {},
     "output_type": "execute_result"
    }
   ],
   "source": [
    "cmap = sns.diverging_palette(140, 300, n=10)\n",
    "cmap"
   ]
  },
  {
   "cell_type": "markdown",
   "id": "e92b8e06",
   "metadata": {},
   "source": [
    "# Creating a diverging palette interactively"
   ]
  },
  {
   "cell_type": "code",
   "execution_count": 3,
   "id": "24669b71",
   "metadata": {},
   "outputs": [
    {
     "data": {
      "application/vnd.jupyter.widget-view+json": {
       "model_id": "677165c43c1d4ad7b10f30271cd63612",
       "version_major": 2,
       "version_minor": 0
      },
      "text/plain": [
       "interactive(children=(IntSlider(value=220, description='h_neg', max=359), IntSlider(value=10, description='h_p…"
      ]
     },
     "metadata": {},
     "output_type": "display_data"
    }
   ],
   "source": [
    "interactive_palette = sns.choose_diverging_palette()"
   ]
  },
  {
   "cell_type": "code",
   "execution_count": 4,
   "id": "9d444fb5",
   "metadata": {},
   "outputs": [],
   "source": [
    "my_current_palette = [(0.25938122405641284, 0.489386341854061, 0.6388624006053857),\n",
    " (0.4379164677758507, 0.6088894738695378, 0.720550615518176),\n",
    " (0.6164517114952885, 0.7283926058850148, 0.8022388304309662),\n",
    " (0.7949869552147263, 0.8478957379004917, 0.8839270453437565),\n",
    " (0.95, 0.95, 0.95),\n",
    " (0.9282549678814984, 0.7863704363662967, 0.7963965173228867),\n",
    " (0.9022582584936525, 0.6005186021022944, 0.622400049291663),\n",
    " (0.8762615491058064, 0.4146667678382919, 0.44840358126043944),\n",
    " (0.8510408608937171, 0.23436274952246883, 0.2796010376480583)]"
   ]
  },
  {
   "cell_type": "markdown",
   "id": "02963356",
   "metadata": {},
   "source": [
    "# Recovering a cmap palette from matplotlib into a discrete palette"
   ]
  },
  {
   "cell_type": "code",
   "execution_count": 5,
   "id": "efe64a04",
   "metadata": {},
   "outputs": [],
   "source": [
    "t = plt.cm.get_cmap('ocean_r', 5)"
   ]
  },
  {
   "cell_type": "code",
   "execution_count": 6,
   "id": "ba1dd0a0",
   "metadata": {},
   "outputs": [
    {
     "name": "stdout",
     "output_type": "stream",
     "text": [
      "['#ffffff', '#409fbf', '#004080', '#002040', '#008000']\n"
     ]
    }
   ],
   "source": [
    "oceanr_palette = []\n",
    "for i in range(t.N):\n",
    "    rgba = t(i)\n",
    "    # rgb2hex accepts rgb or rgba\n",
    "    oceanr_palette.append(matplotlib.colors.rgb2hex(rgba))\n",
    "print(oceanr_palette)"
   ]
  },
  {
   "cell_type": "code",
   "execution_count": 7,
   "id": "391dde00",
   "metadata": {},
   "outputs": [],
   "source": [
    "oceanr_palette= ['#409fbf', '#004080', '#002040', '#008000'] # remobving a lighter shade"
   ]
  },
  {
   "cell_type": "code",
   "execution_count": 8,
   "id": "2373cc9e",
   "metadata": {},
   "outputs": [
    {
     "data": {
      "text/html": [
       "<svg  width=\"550\" height=\"55\"><rect x=\"0\" y=\"0\" width=\"55\" height=\"55\" style=\"fill:#409fbf;stroke-width:2;stroke:rgb(255,255,255)\"/><rect x=\"55\" y=\"0\" width=\"55\" height=\"55\" style=\"fill:#2b80aa;stroke-width:2;stroke:rgb(255,255,255)\"/><rect x=\"110\" y=\"0\" width=\"55\" height=\"55\" style=\"fill:#166095;stroke-width:2;stroke:rgb(255,255,255)\"/><rect x=\"165\" y=\"0\" width=\"55\" height=\"55\" style=\"fill:#004080;stroke-width:2;stroke:rgb(255,255,255)\"/><rect x=\"220\" y=\"0\" width=\"55\" height=\"55\" style=\"fill:#00356b;stroke-width:2;stroke:rgb(255,255,255)\"/><rect x=\"275\" y=\"0\" width=\"55\" height=\"55\" style=\"fill:#002b55;stroke-width:2;stroke:rgb(255,255,255)\"/><rect x=\"330\" y=\"0\" width=\"55\" height=\"55\" style=\"fill:#002040;stroke-width:2;stroke:rgb(255,255,255)\"/><rect x=\"385\" y=\"0\" width=\"55\" height=\"55\" style=\"fill:#00412a;stroke-width:2;stroke:rgb(255,255,255)\"/><rect x=\"440\" y=\"0\" width=\"55\" height=\"55\" style=\"fill:#006015;stroke-width:2;stroke:rgb(255,255,255)\"/><rect x=\"495\" y=\"0\" width=\"55\" height=\"55\" style=\"fill:#008000;stroke-width:2;stroke:rgb(255,255,255)\"/></svg>"
      ],
      "text/plain": [
       "[(0.25098039215686274, 0.6235294117647059, 0.7490196078431373),\n",
       " (0.16830449826989619, 0.50080738177624, 0.6676355247981546),\n",
       " (0.08562860438292966, 0.3780853517877739, 0.5862514417531719),\n",
       " (0.0, 0.25098039215686274, 0.5019607843137255),\n",
       " (0.0, 0.20964244521337946, 0.4192848904267589),\n",
       " (0.0, 0.16682814302191465, 0.3336562860438293),\n",
       " (0.0, 0.12549019607843137, 0.25098039215686274),\n",
       " (0.0, 0.25393310265282587, 0.1653517877739331),\n",
       " (0.0, 0.3779469434832756, 0.08267589388696656),\n",
       " (0.0, 0.5019607843137255, 0.0)]"
      ]
     },
     "execution_count": 8,
     "metadata": {},
     "output_type": "execute_result"
    }
   ],
   "source": [
    "oceanr_palette = sns.blend_palette(oceanr_palette, n_colors=10)\n",
    "oceanr_palette"
   ]
  },
  {
   "cell_type": "markdown",
   "id": "bb1bac07",
   "metadata": {},
   "source": [
    "# Creating a palette from a set of HTML colours"
   ]
  },
  {
   "cell_type": "code",
   "execution_count": 9,
   "id": "26a01fb7",
   "metadata": {},
   "outputs": [],
   "source": [
    "entire_palette = ['#f6eff7','#d0d1e6','#a6bddb','#67a9cf','#1c9099','#016c59']\n",
    "my_new_palette = sns.blend_palette(entire_palette, n_colors=10)"
   ]
  },
  {
   "cell_type": "markdown",
   "id": "f7a41a3f",
   "metadata": {},
   "source": [
    "# Saving a palette generated earlier"
   ]
  },
  {
   "cell_type": "code",
   "execution_count": 10,
   "id": "e737fe90",
   "metadata": {},
   "outputs": [],
   "source": [
    "my_ocean = [[0.8141986448866895, 0.9300128650429377, 0.8233691831865357],\n",
    "            [0.6609483365441673, 0.8703414911957713, 0.7307049055932058],\n",
    "            [0.5202869594623989, 0.800601671451129, 0.6734047891172745],\n",
    "            [0.40294438933790017, 0.7178771487868869, 0.6391596629444687],\n",
    "            [0.31409328565563976, 0.622523248843897, 0.6135451887146669],\n",
    "            [0.25316147249612864, 0.5177940767707285, 0.5826360561269408],\n",
    "            [0.21451074608337842, 0.40908557917308175, 0.5353777924172014],\n",
    "            [0.19001207196192368, 0.3080593646089574, 0.46949634916928407],\n",
    "            [0.1666492218435517, 0.21033523241441057, 0.3773997606877635],\n",
    "            [0.13574629534167468, 0.1268434186308035, 0.26722268463548493]]"
   ]
  },
  {
   "cell_type": "markdown",
   "id": "46edc74f",
   "metadata": {},
   "source": [
    "# Testing a palette with a barplot"
   ]
  },
  {
   "cell_type": "code",
   "execution_count": 11,
   "id": "f359caa2",
   "metadata": {},
   "outputs": [
    {
     "data": {
      "image/png": "[encoded data removed]",
      "text/plain": [
       "<Figure size 360x360 with 1 Axes>"
      ]
     },
     "metadata": {
      "needs_background": "light"
     },
     "output_type": "display_data"
    }
   ],
   "source": [
    "# testing the new palette\n",
    "plt.figure(figsize=(5,5))\n",
    "plt.bar([1,2,3,4,5,6,7,8,9,10], [4,3,2,1,4,3,2,1,3,2], color=my_new_palette)\n",
    "plt.show()"
   ]
  },
  {
   "cell_type": "code",
   "execution_count": 12,
   "id": "f309e897",
   "metadata": {},
   "outputs": [],
   "source": [
    "testing_palette = ['#fc8d59','#ffffbf','#99d594', '#998ec3']"
   ]
  },
  {
   "cell_type": "code",
   "execution_count": 13,
   "id": "8422f1e9",
   "metadata": {},
   "outputs": [],
   "source": [
    "my_testing_palette = sns.blend_palette(testing_palette, n_colors=22)"
   ]
  },
  {
   "cell_type": "code",
   "execution_count": 14,
   "id": "81b1e009",
   "metadata": {},
   "outputs": [
    {
     "data": {
      "text/html": [
       "<svg  width=\"1210\" height=\"55\"><rect x=\"0\" y=\"0\" width=\"55\" height=\"55\" style=\"fill:#fc8d59;stroke-width:2;stroke:rgb(255,255,255)\"/><rect x=\"55\" y=\"0\" width=\"55\" height=\"55\" style=\"fill:#fc9d67;stroke-width:2;stroke:rgb(255,255,255)\"/><rect x=\"110\" y=\"0\" width=\"55\" height=\"55\" style=\"fill:#fdad76;stroke-width:2;stroke:rgb(255,255,255)\"/><rect x=\"165\" y=\"0\" width=\"55\" height=\"55\" style=\"fill:#fdbd84;stroke-width:2;stroke:rgb(255,255,255)\"/><rect x=\"220\" y=\"0\" width=\"55\" height=\"55\" style=\"fill:#fecd93;stroke-width:2;stroke:rgb(255,255,255)\"/><rect x=\"275\" y=\"0\" width=\"55\" height=\"55\" style=\"fill:#fedda1;stroke-width:2;stroke:rgb(255,255,255)\"/><rect x=\"330\" y=\"0\" width=\"55\" height=\"55\" style=\"fill:#ffefb1;stroke-width:2;stroke:rgb(255,255,255)\"/><rect x=\"385\" y=\"0\" width=\"55\" height=\"55\" style=\"fill:#ffffbf;stroke-width:2;stroke:rgb(255,255,255)\"/><rect x=\"440\" y=\"0\" width=\"55\" height=\"55\" style=\"fill:#f1f9b9;stroke-width:2;stroke:rgb(255,255,255)\"/><rect x=\"495\" y=\"0\" width=\"55\" height=\"55\" style=\"fill:#e2f3b3;stroke-width:2;stroke:rgb(255,255,255)\"/><rect x=\"550\" y=\"0\" width=\"55\" height=\"55\" style=\"fill:#d4edad;stroke-width:2;stroke:rgb(255,255,255)\"/><rect x=\"605\" y=\"0\" width=\"55\" height=\"55\" style=\"fill:#c4e7a6;stroke-width:2;stroke:rgb(255,255,255)\"/><rect x=\"660\" y=\"0\" width=\"55\" height=\"55\" style=\"fill:#b6e1a0;stroke-width:2;stroke:rgb(255,255,255)\"/><rect x=\"715\" y=\"0\" width=\"55\" height=\"55\" style=\"fill:#a7db9a;stroke-width:2;stroke:rgb(255,255,255)\"/><rect x=\"770\" y=\"0\" width=\"55\" height=\"55\" style=\"fill:#99d594;stroke-width:2;stroke:rgb(255,255,255)\"/><rect x=\"825\" y=\"0\" width=\"55\" height=\"55\" style=\"fill:#99cb9b;stroke-width:2;stroke:rgb(255,255,255)\"/><rect x=\"880\" y=\"0\" width=\"55\" height=\"55\" style=\"fill:#99c0a2;stroke-width:2;stroke:rgb(255,255,255)\"/><rect x=\"935\" y=\"0\" width=\"55\" height=\"55\" style=\"fill:#99b6a8;stroke-width:2;stroke:rgb(255,255,255)\"/><rect x=\"990\" y=\"0\" width=\"55\" height=\"55\" style=\"fill:#99acaf;stroke-width:2;stroke:rgb(255,255,255)\"/><rect x=\"1045\" y=\"0\" width=\"55\" height=\"55\" style=\"fill:#99a2b6;stroke-width:2;stroke:rgb(255,255,255)\"/><rect x=\"1100\" y=\"0\" width=\"55\" height=\"55\" style=\"fill:#9998bc;stroke-width:2;stroke:rgb(255,255,255)\"/><rect x=\"1155\" y=\"0\" width=\"55\" height=\"55\" style=\"fill:#998ec3;stroke-width:2;stroke:rgb(255,255,255)\"/></svg>"
      ],
      "text/plain": [
       "[(0.9882352941176471, 0.5529411764705883, 0.34901960784313724),\n",
       " (0.9898961937716263, 0.6160553633217993, 0.40549019607843134),\n",
       " (0.9915570934256056, 0.6791695501730104, 0.46196078431372545),\n",
       " (0.9932179930795848, 0.7422837370242215, 0.5184313725490196),\n",
       " (0.994878892733564, 0.8053979238754325, 0.5749019607843138),\n",
       " (0.9965397923875433, 0.8685121107266436, 0.6313725490196078),\n",
       " (0.9983391003460208, 0.9368858131487889, 0.6925490196078431),\n",
       " (1.0, 1.0, 0.7490196078431373),\n",
       " (0.9435294117647058, 0.9767474048442907, 0.7252133794694349),\n",
       " (0.8870588235294118, 0.9534948096885814, 0.7014071510957325),\n",
       " (0.8305882352941176, 0.9302422145328719, 0.67760092272203),\n",
       " (0.7694117647058824, 0.9050519031141868, 0.6518108419838524),\n",
       " (0.7129411764705882, 0.8817993079584775, 0.62800461361015),\n",
       " (0.6564705882352941, 0.8585467128027682, 0.6041983852364475),\n",
       " (0.6, 0.8352941176470589, 0.5803921568627451),\n",
       " (0.6, 0.7959861591695502, 0.6064129181084199),\n",
       " (0.6, 0.7534025374855825, 0.6346020761245675),\n",
       " (0.6, 0.7140945790080738, 0.6606228373702422),\n",
       " (0.6, 0.6747866205305653, 0.686643598615917),\n",
       " (0.6, 0.6354786620530566, 0.7126643598615917),\n",
       " (0.6, 0.5961707035755479, 0.7386851211072664),\n",
       " (0.6, 0.5568627450980392, 0.7647058823529411)]"
      ]
     },
     "execution_count": 14,
     "metadata": {},
     "output_type": "execute_result"
    }
   ],
   "source": [
    "my_testing_palette"
   ]
  },
  {
   "cell_type": "code",
   "execution_count": null,
   "id": "ac13bdfa",
   "metadata": {},
   "outputs": [],
   "source": []
  }
 ],
 "metadata": {
  "kernelspec": {
   "display_name": "Python 3 (ipykernel)",
   "language": "python",
   "name": "python3"
  },
  "language_info": {
   "codemirror_mode": {
    "name": "ipython",
    "version": 3
   },
   "file_extension": ".py",
   "mimetype": "text/x-python",
   "name": "python",
   "nbconvert_exporter": "python",
   "pygments_lexer": "ipython3",
   "version": "3.8.12"
  }
 },
 "nbformat": 4,
 "nbformat_minor": 5
}
